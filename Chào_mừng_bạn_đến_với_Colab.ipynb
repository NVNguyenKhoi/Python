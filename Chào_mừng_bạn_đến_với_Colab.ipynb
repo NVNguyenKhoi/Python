{
  "cells": [
    {
      "cell_type": "markdown",
      "metadata": {
        "id": "view-in-github",
        "colab_type": "text"
      },
      "source": [
        "<a href=\"https://colab.research.google.com/github/NVNguyenKhoi/Python/blob/main/Ch%C3%A0o_m%E1%BB%ABng_b%E1%BA%A1n_%C4%91%E1%BA%BFn_v%E1%BB%9Bi_Colab.ipynb\" target=\"_parent\"><img src=\"https://colab.research.google.com/assets/colab-badge.svg\" alt=\"Open In Colab\"/></a>"
      ]
    },
    {
      "cell_type": "code",
      "source": [
        "def calculate_BMI(height, weight):\n",
        "  BMI = 0\n",
        "  if(height <= 0 or weight <= 0):\n",
        "    print(\"Invalid input\");\n",
        "  else:\n",
        "    BMI = height / (weight ** 2)\n",
        "  return BMI\n",
        "\n",
        "def display(BMI):\n",
        "  if(BMI < 18.5):\n",
        "    print(\"Your BMI is underweight\")\n",
        "  elif(BMI < 25):\n",
        "    print(\"Your BMI is healthy weight\")\n",
        "  elif(BMI < 30):\n",
        "    print(\"Your BMI is overweight\")\n",
        "  else:\n",
        "    print(\"Your BMI is obesity\")\n",
        "\n",
        "height = float(input(\"Enter your height in meters: \"))\n",
        "weight = float(input(\"Enter your weight in Kilograms: \"))\n",
        "\n",
        "BMI = calculate_BMI(height, weight)\n",
        "if (BMI != 0):\n",
        "  print(\"Your BMI is: \", BMI);\n",
        "  display(BMI)"
      ],
      "metadata": {
        "colab": {
          "base_uri": "https://localhost:8080/"
        },
        "id": "ZOj0qxSekEEu",
        "outputId": "0c178a51-5499-45d4-f573-95a0cd101eb6"
      },
      "execution_count": null,
      "outputs": [
        {
          "output_type": "stream",
          "name": "stdout",
          "text": [
            "Enter your height in meters: 70\n",
            "Enter your weight in Kilograms: 1.7\n",
            "Your BMI is:  24.221453287197235\n",
            "Your BMI is healthy weight\n"
          ]
        }
      ]
    },
    {
      "cell_type": "code",
      "source": [
        "def convert_temperature():\n",
        "  celsisu = float(input(\"Enter temperature in Celsius: \"))\n",
        "  fahrenheit = (celsisu * 9/5) + 32\n",
        "  print(\"Temperature in Fahrenheit is: \", fahrenheit)\n",
        "convert_temperature()"
      ],
      "metadata": {
        "colab": {
          "base_uri": "https://localhost:8080/"
        },
        "id": "sWDz4wEbuItN",
        "outputId": "5e5e8577-8288-4b7c-e191-a22956872d80"
      },
      "execution_count": null,
      "outputs": [
        {
          "output_type": "stream",
          "name": "stdout",
          "text": [
            "Enter temperature in Celsius: 25\n",
            "Temperature in Fahrenheit is:  77.0\n"
          ]
        }
      ]
    },
    {
      "cell_type": "code",
      "source": [
        "def calculator():\n",
        "  num1 = float(input(\"Enter first number: \"))\n",
        "  num2 = float(input(\"Enter second number: \"))\n",
        "  operator = input(\"Enter operator (+, -, *, /): \")\n",
        "  if(operator == '+'):\n",
        "    result = num1 + num2\n",
        "  elif(operator == '-'):\n",
        "    result = num1 - num2\n",
        "  elif(operator == '*'):\n",
        "    result = num1 * num2\n",
        "  elif(operator == '/'):\n",
        "    result = num1 / num2\n",
        "  else:\n",
        "    print(\"Invalid operator\")\n",
        "  print(\"Result: \", result)\n",
        "calculator()"
      ],
      "metadata": {
        "colab": {
          "base_uri": "https://localhost:8080/"
        },
        "id": "pxXaZ0UGul7G",
        "outputId": "d59f1320-868c-42d5-f179-ef1eb317c244"
      },
      "execution_count": null,
      "outputs": [
        {
          "output_type": "stream",
          "name": "stdout",
          "text": [
            "Enter first number: 6.0\n",
            "Enter second number: 8.0\n",
            "Enter operator (+, -, *, /): +\n",
            "Result:  14.0\n"
          ]
        }
      ]
    },
    {
      "cell_type": "code",
      "source": [
        "def coin_toss():\n",
        "  head = float(input(\"Enter number of heads: \"))\n",
        "  if(head < 0.5):\n",
        "    print(\"Heads\")\n",
        "  else:\n",
        "    print(\"Tails\")\n",
        "coin_toss()\n"
      ],
      "metadata": {
        "colab": {
          "base_uri": "https://localhost:8080/"
        },
        "id": "TNLkaJzmvJux",
        "outputId": "aa6d8965-c2da-4621-d672-1d6ae6b0da4e"
      },
      "execution_count": null,
      "outputs": [
        {
          "output_type": "stream",
          "name": "stdout",
          "text": [
            "Enter number of heads: 0.3\n",
            "Heads\n"
          ]
        }
      ]
    },
    {
      "cell_type": "code",
      "source": [
        "import random\n",
        "\n",
        "def coin_toss():\n",
        "    try:\n",
        "        prob_head = float(input(\"Enter the probability of heads (between 0 and 1): \"))\n",
        "        if not 0 <= prob_head <= 1:\n",
        "            print(\"Probability must be between 0 and 1.\")\n",
        "            return\n",
        "\n",
        "        toss = random.random()  # Generates a float between 0 and 1\n",
        "        print(\"toss from random : \", toss)\n",
        "        if toss < prob_head:\n",
        "            result = \"heads\"\n",
        "        else:\n",
        "            result = \"tails\"\n",
        "\n",
        "        print(f\"The result of the coin toss is: {result}\")\n",
        "        return result\n",
        "\n",
        "    except ValueError:\n",
        "        print(\"Invalid input. Please enter a number between 0 and 1.\")\n",
        "\n",
        "coin_toss()\n"
      ],
      "metadata": {
        "colab": {
          "base_uri": "https://localhost:8080/",
          "height": 88
        },
        "id": "rqu1hHaryRO0",
        "outputId": "884e4495-c699-45ac-cff0-ac6c101d5ca1"
      },
      "execution_count": null,
      "outputs": [
        {
          "output_type": "stream",
          "name": "stdout",
          "text": [
            "Enter the probability of heads (between 0 and 1): 0.3\n",
            "toss from random :  0.7419083970496613\n",
            "The result of the coin toss is: tails\n"
          ]
        },
        {
          "output_type": "execute_result",
          "data": {
            "text/plain": [
              "'tails'"
            ],
            "application/vnd.google.colaboratory.intrinsic+json": {
              "type": "string"
            }
          },
          "metadata": {},
          "execution_count": 36
        }
      ]
    }
  ],
  "metadata": {
    "colab": {
      "name": "Chào mừng bạn đến với Colab",
      "toc_visible": true,
      "provenance": [],
      "include_colab_link": true
    },
    "kernelspec": {
      "display_name": "Python 3",
      "name": "python3"
    }
  },
  "nbformat": 4,
  "nbformat_minor": 0
}